{
 "cells": [
  {
   "cell_type": "code",
   "execution_count": null,
   "metadata": {
    "_cell_guid": "b1076dfc-b9ad-4769-8c92-a6c4dae69d19",
    "_uuid": "8f2839f25d086af736a60e9eeb907d3b93b6e0e5",
    "execution": {
     "iopub.execute_input": "2024-09-24T03:52:12.403871Z",
     "iopub.status.busy": "2024-09-24T03:52:12.402523Z",
     "iopub.status.idle": "2024-09-24T03:52:12.418608Z",
     "shell.execute_reply": "2024-09-24T03:52:12.417087Z",
     "shell.execute_reply.started": "2024-09-24T03:52:12.403817Z"
    }
   },
   "outputs": [],
   "source": [
    "import numpy as np\n",
    "import pandas as pd"
   ]
  },
  {
   "cell_type": "code",
   "execution_count": null,
   "metadata": {
    "execution": {
     "iopub.execute_input": "2024-09-24T03:52:12.448968Z",
     "iopub.status.busy": "2024-09-24T03:52:12.448467Z",
     "iopub.status.idle": "2024-09-24T03:52:14.804181Z",
     "shell.execute_reply": "2024-09-24T03:52:14.802904Z",
     "shell.execute_reply.started": "2024-09-24T03:52:12.448927Z"
    }
   },
   "outputs": [],
   "source": [
    "df = pd.read_csv('emails.csv')\n",
    "df"
   ]
  },
  {
   "cell_type": "code",
   "execution_count": null,
   "metadata": {
    "execution": {
     "iopub.execute_input": "2024-09-24T03:52:14.806981Z",
     "iopub.status.busy": "2024-09-24T03:52:14.806576Z",
     "iopub.status.idle": "2024-09-24T03:52:14.865029Z",
     "shell.execute_reply": "2024-09-24T03:52:14.863791Z",
     "shell.execute_reply.started": "2024-09-24T03:52:14.806939Z"
    }
   },
   "outputs": [],
   "source": [
    "df = df.drop('Email No.',axis=1)"
   ]
  },
  {
   "cell_type": "code",
   "execution_count": null,
   "metadata": {
    "execution": {
     "iopub.execute_input": "2024-09-24T03:52:14.866870Z",
     "iopub.status.busy": "2024-09-24T03:52:14.866451Z",
     "iopub.status.idle": "2024-09-24T03:52:14.873701Z",
     "shell.execute_reply": "2024-09-24T03:52:14.872243Z",
     "shell.execute_reply.started": "2024-09-24T03:52:14.866827Z"
    }
   },
   "outputs": [],
   "source": [
    "from sklearn.model_selection import train_test_split\n",
    "from sklearn.neighbors import KNeighborsClassifier\n",
    "from sklearn.svm import SVC\n"
   ]
  },
  {
   "cell_type": "code",
   "execution_count": null,
   "metadata": {
    "execution": {
     "iopub.execute_input": "2024-09-24T03:52:14.877211Z",
     "iopub.status.busy": "2024-09-24T03:52:14.876776Z",
     "iopub.status.idle": "2024-09-24T03:52:14.887492Z",
     "shell.execute_reply": "2024-09-24T03:52:14.885758Z",
     "shell.execute_reply.started": "2024-09-24T03:52:14.877169Z"
    }
   },
   "outputs": [],
   "source": [
    "X = df.iloc[:,:3000]\n",
    "Y = df.iloc[:,3000]\n",
    "print(Y)"
   ]
  },
  {
   "cell_type": "code",
   "execution_count": null,
   "metadata": {
    "execution": {
     "iopub.execute_input": "2024-09-24T03:52:14.891178Z",
     "iopub.status.busy": "2024-09-24T03:52:14.889577Z",
     "iopub.status.idle": "2024-09-24T03:52:14.997677Z",
     "shell.execute_reply": "2024-09-24T03:52:14.996376Z",
     "shell.execute_reply.started": "2024-09-24T03:52:14.891115Z"
    }
   },
   "outputs": [],
   "source": [
    "x_train,x_test,y_train,y_test = train_test_split(X,Y,test_size=0.2,random_state=21)"
   ]
  },
  {
   "cell_type": "code",
   "execution_count": null,
   "metadata": {
    "execution": {
     "iopub.execute_input": "2024-09-24T03:52:14.999644Z",
     "iopub.status.busy": "2024-09-24T03:52:14.999277Z",
     "iopub.status.idle": "2024-09-24T03:52:15.945997Z",
     "shell.execute_reply": "2024-09-24T03:52:15.944375Z",
     "shell.execute_reply.started": "2024-09-24T03:52:14.999605Z"
    }
   },
   "outputs": [],
   "source": [
    "KNN_classifier = KNeighborsClassifier(n_neighbors=3)\n",
    "KNN_classifier.fit(x_train,y_train)\n",
    "knn_prediction = KNN_classifier.predict(x_test)"
   ]
  },
  {
   "cell_type": "code",
   "execution_count": null,
   "metadata": {
    "execution": {
     "iopub.execute_input": "2024-09-24T03:52:15.948540Z",
     "iopub.status.busy": "2024-09-24T03:52:15.947902Z",
     "iopub.status.idle": "2024-09-24T03:53:02.370570Z",
     "shell.execute_reply": "2024-09-24T03:53:02.368839Z",
     "shell.execute_reply.started": "2024-09-24T03:52:15.948476Z"
    }
   },
   "outputs": [],
   "source": [
    "my_svc = SVC()\n",
    "my_svc.fit(x_train,y_train)\n",
    "svc_prediction = my_svc.predict(x_test)"
   ]
  },
  {
   "cell_type": "code",
   "execution_count": null,
   "metadata": {
    "execution": {
     "iopub.execute_input": "2024-09-24T03:53:02.373150Z",
     "iopub.status.busy": "2024-09-24T03:53:02.372575Z",
     "iopub.status.idle": "2024-09-24T03:53:02.380064Z",
     "shell.execute_reply": "2024-09-24T03:53:02.378603Z",
     "shell.execute_reply.started": "2024-09-24T03:53:02.373097Z"
    }
   },
   "outputs": [],
   "source": [
    "from sklearn.metrics import r2_score,mean_absolute_error,mean_squared_error,confusion_matrix,ConfusionMatrixDisplay"
   ]
  },
  {
   "cell_type": "code",
   "execution_count": null,
   "metadata": {
    "execution": {
     "iopub.execute_input": "2024-09-24T03:53:02.382566Z",
     "iopub.status.busy": "2024-09-24T03:53:02.381985Z",
     "iopub.status.idle": "2024-09-24T03:53:02.400820Z",
     "shell.execute_reply": "2024-09-24T03:53:02.398519Z",
     "shell.execute_reply.started": "2024-09-24T03:53:02.382492Z"
    }
   },
   "outputs": [],
   "source": [
    "# R2 score\n",
    "knn_r2 = r2_score(y_test,knn_prediction)\n",
    "svc_r2 = r2_score(y_test,svc_prediction)\n",
    "print(\"KNN R2: \",knn_r2)\n",
    "print(\"SVM R2: \",svc_r2)"
   ]
  },
  {
   "cell_type": "code",
   "execution_count": null,
   "metadata": {
    "execution": {
     "iopub.execute_input": "2024-09-24T03:53:02.407267Z",
     "iopub.status.busy": "2024-09-24T03:53:02.406005Z",
     "iopub.status.idle": "2024-09-24T03:53:02.418203Z",
     "shell.execute_reply": "2024-09-24T03:53:02.416548Z",
     "shell.execute_reply.started": "2024-09-24T03:53:02.407198Z"
    }
   },
   "outputs": [],
   "source": [
    "knn_MAE = mean_absolute_error(y_test,knn_prediction)\n",
    "svc_MAE= mean_absolute_error(y_test,svc_prediction)\n",
    "print(\"KNN MAE: \",knn_MAE)\n",
    "print(\"SVM MAE: \",svc_MAE)"
   ]
  },
  {
   "cell_type": "code",
   "execution_count": null,
   "metadata": {
    "execution": {
     "iopub.execute_input": "2024-09-24T03:53:02.421476Z",
     "iopub.status.busy": "2024-09-24T03:53:02.420456Z",
     "iopub.status.idle": "2024-09-24T03:53:02.435413Z",
     "shell.execute_reply": "2024-09-24T03:53:02.433675Z",
     "shell.execute_reply.started": "2024-09-24T03:53:02.421403Z"
    }
   },
   "outputs": [],
   "source": [
    "knn_MSE = mean_squared_error(y_test,knn_prediction)\n",
    "svc_MSE = mean_squared_error(y_test,svc_prediction)\n",
    "print(\"KNN MSE: \",knn_MSE)\n",
    "print(\"SVM MSE: \",svc_MSE)\n",
    "print(\"KNN RMSE: \",np.sqrt(knn_MSE))\n",
    "print(\"SVM RMSE: \",np.sqrt(svc_MSE))"
   ]
  },
  {
   "cell_type": "code",
   "execution_count": null,
   "metadata": {
    "execution": {
     "iopub.execute_input": "2024-09-24T03:53:02.437679Z",
     "iopub.status.busy": "2024-09-24T03:53:02.437162Z",
     "iopub.status.idle": "2024-09-24T03:53:02.983965Z",
     "shell.execute_reply": "2024-09-24T03:53:02.982307Z",
     "shell.execute_reply.started": "2024-09-24T03:53:02.437623Z"
    }
   },
   "outputs": [],
   "source": [
    "import matplotlib.pyplot as plt\n",
    "knn_CM = confusion_matrix(y_test,knn_prediction)\n",
    "svc_CM = confusion_matrix(y_test,svc_prediction)\n",
    "knn_plot = ConfusionMatrixDisplay(knn_CM)\n",
    "svc_plot = ConfusionMatrixDisplay(svc_CM)\n",
    "knn_plot.plot()\n",
    "svc_plot.plot()\n",
    "plt.show()"
   ]
  },
  {
   "cell_type": "code",
   "execution_count": null,
   "metadata": {
    "execution": {
     "iopub.execute_input": "2024-09-24T03:53:02.986427Z",
     "iopub.status.busy": "2024-09-24T03:53:02.986069Z",
     "iopub.status.idle": "2024-09-24T03:53:02.997256Z",
     "shell.execute_reply": "2024-09-24T03:53:02.995591Z",
     "shell.execute_reply.started": "2024-09-24T03:53:02.986389Z"
    }
   },
   "outputs": [],
   "source": [
    "from sklearn.metrics import accuracy_score\n",
    "print(\"KNN accuracy: \",accuracy_score(y_test,knn_prediction))\n",
    "print(\"SVM accuracy: \",accuracy_score(y_test,svc_prediction))"
   ]
  },
  {
   "cell_type": "code",
   "execution_count": null,
   "metadata": {
    "execution": {
     "iopub.execute_input": "2024-09-24T03:53:42.084596Z",
     "iopub.status.busy": "2024-09-24T03:53:42.084104Z",
     "iopub.status.idle": "2024-09-24T03:53:42.998487Z",
     "shell.execute_reply": "2024-09-24T03:53:42.996882Z",
     "shell.execute_reply.started": "2024-09-24T03:53:42.084516Z"
    }
   },
   "outputs": [],
   "source": [
    "KNN_classifier_withk5 = KNeighborsClassifier(n_neighbors=5)\n",
    "KNN_classifier_withk5.fit(x_train,y_train)\n",
    "knn_prediction_withk5 = KNN_classifier_withk5.predict(x_test)"
   ]
  },
  {
   "cell_type": "code",
   "execution_count": null,
   "metadata": {
    "execution": {
     "iopub.execute_input": "2024-09-24T03:53:48.732857Z",
     "iopub.status.busy": "2024-09-24T03:53:48.732121Z",
     "iopub.status.idle": "2024-09-24T03:53:48.743866Z",
     "shell.execute_reply": "2024-09-24T03:53:48.742292Z",
     "shell.execute_reply.started": "2024-09-24T03:53:48.732801Z"
    }
   },
   "outputs": [],
   "source": [
    "knn_k5_MSE = mean_squared_error(y_test,knn_prediction_withk5)\n",
    "knn_k5_r2 = r2_score(y_test,knn_prediction_withk5)\n",
    "knn_k5_MAE = mean_absolute_error(y_test,knn_prediction_withk5)"
   ]
  },
  {
   "cell_type": "code",
   "execution_count": null,
   "metadata": {
    "execution": {
     "iopub.execute_input": "2024-09-24T03:53:49.524973Z",
     "iopub.status.busy": "2024-09-24T03:53:49.523639Z",
     "iopub.status.idle": "2024-09-24T03:53:50.519478Z",
     "shell.execute_reply": "2024-09-24T03:53:50.517955Z",
     "shell.execute_reply.started": "2024-09-24T03:53:49.524923Z"
    }
   },
   "outputs": [],
   "source": [
    "\n",
    "\n",
    "KNN_classifier_withkrootN = KNeighborsClassifier(n_neighbors=int(np.sqrt(X.shape[0])))\n",
    "KNN_classifier_withkrootN.fit(x_train,y_train)\n",
    "knn_prediction_withkrootN = KNN_classifier_withkrootN.predict(x_test)"
   ]
  },
  {
   "cell_type": "code",
   "execution_count": null,
   "metadata": {
    "execution": {
     "iopub.execute_input": "2024-09-24T03:53:53.711257Z",
     "iopub.status.busy": "2024-09-24T03:53:53.709599Z",
     "iopub.status.idle": "2024-09-24T03:53:53.719977Z",
     "shell.execute_reply": "2024-09-24T03:53:53.718292Z",
     "shell.execute_reply.started": "2024-09-24T03:53:53.711187Z"
    }
   },
   "outputs": [],
   "source": [
    "knn_krootN_MSE = mean_squared_error(y_test,knn_prediction_withkrootN)\n",
    "knn_krootN_r2 = r2_score(y_test,knn_prediction_withkrootN)\n",
    "knn_krootN_MAE = mean_absolute_error(y_test,knn_prediction_withkrootN)"
   ]
  },
  {
   "cell_type": "code",
   "execution_count": null,
   "metadata": {
    "execution": {
     "iopub.execute_input": "2024-09-24T03:56:51.522037Z",
     "iopub.status.busy": "2024-09-24T03:56:51.520584Z",
     "iopub.status.idle": "2024-09-24T03:56:51.530323Z",
     "shell.execute_reply": "2024-09-24T03:56:51.528320Z",
     "shell.execute_reply.started": "2024-09-24T03:56:51.521962Z"
    }
   },
   "outputs": [],
   "source": [
    "cols = ['K','RMSE','MSE','R2','MAE']\n",
    "result_tabulation = pd.DataFrame(columns = cols)"
   ]
  },
  {
   "cell_type": "code",
   "execution_count": null,
   "metadata": {
    "execution": {
     "iopub.execute_input": "2024-09-24T04:01:27.271645Z",
     "iopub.status.busy": "2024-09-24T04:01:27.270340Z",
     "iopub.status.idle": "2024-09-24T04:01:27.293342Z",
     "shell.execute_reply": "2024-09-24T04:01:27.291550Z",
     "shell.execute_reply.started": "2024-09-24T04:01:27.271576Z"
    }
   },
   "outputs": [],
   "source": [
    "full_metrics = pd.Series({'K': \"3\", 'RMSE' : np.sqrt(knn_MSE),'MSE' : knn_MSE, 'MAE' : knn_MAE, 'R-Squared' : knn_r2})\n",
    "full_metricsk5 = pd.Series({'K': \"5\", 'RMSE' : np.sqrt(knn_k5_MSE),'MSE' : knn_k5_MSE, 'MAE' : knn_k5_MAE, 'R-Squared' : knn_k5_r2})\n",
    "full_metricskrootN = pd.Series({'K': \"sqrt(N)\", 'RMSE' : np.sqrt(knn_krootN_MSE),'MSE' : knn_krootN_MSE, 'MAE' : knn_krootN_MAE, 'R-Squared' : knn_krootN_r2})\n",
    "\n",
    "# append our result table using append()\n",
    "# ignore_index=True: does not use the index labels\n",
    "# python can only append a Series if ignore_index=True or if the Series has a name\n",
    "result_tabulation = pd.concat([full_metrics,full_metricsk5,full_metricskrootN], ignore_index = False,axis=1)\n",
    "# result_tabulation = result_tabulation.append(full_metricsk5, ignore_index = True)\n",
    "# result_tabulation = result_tabulation.append(full_metricskrootN, ignore_index = True)\n",
    "\n",
    "# print the result table\n",
    "result_tabulation"
   ]
  }
 ],
 "metadata": {
  "kaggle": {
   "accelerator": "none",
   "dataSources": [
    {
     "datasetId": 547699,
     "sourceId": 998616,
     "sourceType": "datasetVersion"
    }
   ],
   "dockerImageVersionId": 30761,
   "isGpuEnabled": false,
   "isInternetEnabled": false,
   "language": "python",
   "sourceType": "notebook"
  },
  "kernelspec": {
   "display_name": "Python 3 (ipykernel)",
   "language": "python",
   "name": "python3"
  },
  "language_info": {
   "codemirror_mode": {
    "name": "ipython",
    "version": 3
   },
   "file_extension": ".py",
   "mimetype": "text/x-python",
   "name": "python",
   "nbconvert_exporter": "python",
   "pygments_lexer": "ipython3",
   "version": "3.9.7"
  }
 },
 "nbformat": 4,
 "nbformat_minor": 4
}
